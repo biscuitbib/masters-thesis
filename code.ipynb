{
 "cells": [
  {
   "cell_type": "code",
   "execution_count": 1,
   "id": "210759c3",
   "metadata": {},
   "outputs": [
    {
     "name": "stdout",
     "output_type": "stream",
     "text": [
      "/notebooks/masters-thesis\n",
      "Requirement already satisfied: elasticdeform in /usr/local/lib/python3.9/dist-packages (0.4.9)\n",
      "Requirement already satisfied: nibabel in /usr/local/lib/python3.9/dist-packages (4.0.2)\n",
      "Requirement already satisfied: numpy in /usr/local/lib/python3.9/dist-packages (from elasticdeform) (1.23.1)\n",
      "Requirement already satisfied: scipy in /usr/local/lib/python3.9/dist-packages (from elasticdeform) (1.8.1)\n",
      "Requirement already satisfied: setuptools in /usr/local/lib/python3.9/dist-packages (from nibabel) (63.1.0)\n",
      "Requirement already satisfied: packaging>=17.0 in /usr/local/lib/python3.9/dist-packages (from nibabel) (21.3)\n",
      "Requirement already satisfied: pyparsing!=3.0.5,>=2.0.2 in /usr/local/lib/python3.9/dist-packages (from packaging>=17.0->nibabel) (3.0.9)\n",
      "\u001b[33mWARNING: Running pip as the 'root' user can result in broken permissions and conflicting behaviour with the system package manager. It is recommended to use a virtual environment instead: https://pip.pypa.io/warnings/venv\u001b[0m\u001b[33m\n",
      "\u001b[0mNote: you may need to restart the kernel to use updated packages.\n"
     ]
    }
   ],
   "source": [
    "%cd masters-thesis\n",
    "%pip install elasticdeform nibabel"
   ]
  },
  {
   "cell_type": "code",
   "execution_count": 2,
   "id": "f143d03a",
   "metadata": {},
   "outputs": [],
   "source": [
    "import os\n",
    "\n",
    "import numpy as np\n",
    "import matplotlib\n",
    "import matplotlib.pyplot as plt\n",
    "import matplotlib.animation as animation\n",
    "\n",
    "import torch\n",
    "from torch import Tensor, nn, optim\n",
    "import torch.nn.functional as F\n",
    "import torchvision.transforms as T\n",
    "from torchvision.transforms.functional import pad\n",
    "from torch.utils.data import DataLoader, random_split\n",
    "from torch.utils.tensorboard import SummaryWriter\n",
    "from skimage.io import imread, imsave\n",
    "from tqdm import tqdm\n",
    "\n",
    "from thesisproject.data import ImageData, SliceLoader\n",
    "from thesisproject.models import UNet\n",
    "from thesisproject.utils import get_metrics, mask_to_rgb, segmentation_to_rgb\n",
    "from thesisproject.train import training_loop, train"
   ]
  },
  {
   "cell_type": "code",
   "execution_count": 3,
   "id": "11a592e4-b905-4a70-9673-522f8e998d4d",
   "metadata": {},
   "outputs": [],
   "source": [
    "class Square_pad:\n",
    "    def __init__(self, fill=0):\n",
    "        self.fill=fill\n",
    "\n",
    "    def __call__(self, image: Tensor):\n",
    "        imsize = image.shape\n",
    "        max_edge = np.argmax(imsize)\n",
    "        pad_amounts = [imsize[max_edge] - imsize[0], imsize[max_edge] - imsize[1], imsize[max_edge] - imsize[2]]\n",
    "\n",
    "        padding = [pad_amounts[0], 0, pad_amounts[1], 0, pad_amounts[2], 0] #left, right, top, bottom, front, back\n",
    "        padding = tuple(padding[::-1])\n",
    "\n",
    "        padded_im = F.pad(image, padding, \"constant\", self.fill)\n",
    "        return padded_im"
   ]
  },
  {
   "cell_type": "code",
   "execution_count": 6,
   "id": "5ea3ee05-4b97-418e-a4a5-271dc1d74086",
   "metadata": {},
   "outputs": [],
   "source": [
    "\n",
    "path = \"../ScanManTrain61_knee_data/\"\n",
    "\n",
    "transform = Square_pad()\n",
    "\n",
    "train_data = ImageData(path + \"train\", transform=transform, target_transform=transform, num_access=3)\n",
    "val_data = ImageData(path + \"val\", transform=transform, target_transform=transform, num_access=1)\n",
    "\n",
    "train_loader = SliceLoader(train_data, slices_per_batch=8, volumes_per_batch=2, shuffle=True, num_workers=1, pin_memory=True)\n",
    "val_loader = SliceLoader(train_data, slices_per_batch=8, volumes_per_batch=2, shuffle=False, num_workers=1, pin_memory=True)\n",
    "\n",
    "## Train\n",
    "net = UNet(1, 10)\n",
    "\n",
    "criterion = nn.CrossEntropyLoss()\n",
    "optimizer = optim.Adam(net.parameters(), lr=5e-5)"
   ]
  },
  {
   "cell_type": "code",
   "execution_count": 7,
   "id": "d13bf78b-0a60-4b76-9058-bbabacfe6a26",
   "metadata": {},
   "outputs": [
    {
     "name": "stdout",
     "output_type": "stream",
     "text": [
      "<torch.utils.tensorboard.writer.SummaryWriter object at 0x7f79f73cb250>\n"
     ]
    },
    {
     "name": "stderr",
     "output_type": "stream",
     "text": [
      "training loss epoch 0: 0.263: 100%|██████████| 65/65 [11:54<00:00, 10.99s/it]\n",
      "training loss epoch 1: 0.226: 100%|██████████| 65/65 [11:34<00:00, 10.69s/it]\n",
      "training loss epoch 2: 0.202: 100%|██████████| 65/65 [11:41<00:00, 10.80s/it]\n",
      "training loss epoch 3: 0.177: 100%|██████████| 65/65 [11:37<00:00, 10.72s/it]\n",
      "training loss epoch 5: 0.148: 100%|██████████| 65/65 [11:35<00:00, 10.70s/it]\n",
      "training loss epoch 6: 0.138: 100%|██████████| 65/65 [11:38<00:00, 10.74s/it]\n",
      "training loss epoch 7: 0.127: 100%|██████████| 65/65 [11:44<00:00, 10.83s/it]\n",
      "training loss epoch 8: 0.115: 100%|██████████| 65/65 [11:38<00:00, 10.75s/it]\n",
      "training loss epoch 9: 0.1: 100%|██████████| 65/65 [11:37<00:00, 10.73s/it]\n",
      "training loss epoch 10: 0.095: 100%|██████████| 65/65 [11:31<00:00, 10.64s/it]\n",
      "training loss epoch 11: 0.088: 100%|██████████| 65/65 [12:01<00:00, 11.11s/it]\n",
      "training loss epoch 12: 0.081: 100%|██████████| 65/65 [11:36<00:00, 10.72s/it]\n",
      "training loss epoch 14: 0.061: 100%|██████████| 65/65 [11:39<00:00, 10.75s/it]\n",
      "training loss epoch 15: 0.073: 100%|██████████| 65/65 [11:36<00:00, 10.71s/it]\n",
      "training loss epoch 16: 0.062: 100%|██████████| 65/65 [11:38<00:00, 10.74s/it]\n",
      "training loss epoch 17: 0.058: 100%|██████████| 65/65 [11:36<00:00, 10.72s/it]\n",
      "training loss epoch 18: 0.054: 100%|██████████| 65/65 [11:37<00:00, 10.74s/it]\n",
      "training loss epoch 20: 0.05: 100%|██████████| 65/65 [11:38<00:00, 10.74s/it]]\n",
      "training loss epoch 21: 0.036: 100%|██████████| 65/65 [11:35<00:00, 10.69s/it]\n",
      "training loss epoch 22: 0.039: 100%|██████████| 65/65 [11:34<00:00, 10.68s/it]\n",
      "training loss epoch 23: 0.028: 100%|██████████| 65/65 [11:29<00:00, 10.62s/it]\n",
      "training loss epoch 24: 0.028: 100%|██████████| 65/65 [11:39<00:00, 10.76s/it]\n",
      "training loss epoch 25: 0.033: 100%|██████████| 65/65 [11:36<00:00, 10.72s/it]\n",
      "training loss epoch 26: 0.03: 100%|██████████| 65/65 [11:36<00:00, 10.71s/it]\n",
      "training loss epoch 27: 0.027: 100%|██████████| 65/65 [05:43<00:00,  4.55s/it]"
     ]
    },
    {
     "ename": "",
     "evalue": "",
     "output_type": "error",
     "traceback": [
      "\u001b[1;31mFailed to connect to the remote Jupyter Server 'https://ngf8sh7tix.clg07azjl.paperspacegradient.com/'. Verify the server is running and reachable."
     ]
    }
   ],
   "source": [
    "training_loop(net, criterion, optimizer, train_loader, val_loader, num_epochs=100, cont=False)"
   ]
  },
  {
   "cell_type": "code",
   "execution_count": null,
   "id": "1e0f5cf9",
   "metadata": {},
   "outputs": [],
   "source": []
  }
 ],
 "metadata": {
  "kernelspec": {
   "display_name": "Python 3 (ipykernel)",
   "language": "python",
   "name": "python3"
  },
  "language_info": {
   "codemirror_mode": {
    "name": "ipython",
    "version": 3
   },
   "file_extension": ".py",
   "mimetype": "text/x-python",
   "name": "python",
   "nbconvert_exporter": "python",
   "pygments_lexer": "ipython3",
   "version": "3.9.13"
  }
 },
 "nbformat": 4,
 "nbformat_minor": 5
}
