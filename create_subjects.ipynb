{
 "cells": [
  {
   "cell_type": "code",
   "execution_count": 5,
   "id": "2482f1bc",
   "metadata": {},
   "outputs": [],
   "source": [
    "#!pip install nibabel"
   ]
  },
  {
   "cell_type": "code",
   "execution_count": null,
   "id": "17e1054b",
   "metadata": {},
   "outputs": [],
   "source": [
    "import os\n",
    "import nibabel as nib\n",
    "import numpy as np\n",
    "import pandas as pd\n",
    "import h5py\n",
    "from typing import List, Set"
   ]
  },
  {
   "cell_type": "code",
   "execution_count": 41,
   "id": "b8a43d8f",
   "metadata": {},
   "outputs": [],
   "source": [
    "def get_patient_images_from_id(filenames: Set[str], subject_id: int, last_visit_right=12, last_visit_left: int=12):\n",
    "    possible_right_images = {str(subject_id) + \"-\" + \"Right\" + \"-\" + f\"V{visit:02}.nii.gz\" for visit in range(last_visit_right)}\n",
    "    possible_left_images = {str(subject_id) + \"-\" + \"Left\" + \"-\" + f\"V{visit:02}.nii.gz\" for visit in range(last_visit_left)}\n",
    "    return list(possible_right_images & files), list(possible_left_images & files)"
   ]
  },
  {
   "cell_type": "markdown",
   "id": "01f89153",
   "metadata": {},
   "source": [
    "# Creating subjects dataset\n",
    "### Steps:\n",
    "- Filter all subjects with images\n",
    "- Find all subjects with left or right TKR\n",
    "- For each TKR knee subject\n",
    "    - Filter all subjects without TKR\n",
    "    - Filter all subjects with bmi +- 2\n",
    "    - Filter all subjects with age +- 4\n",
    "    - Take random (max 2)\n",
    "    - If less than 4, discard TKR patient\n",
    "    - For TKR patient take last 3 visits before TKR\n",
    "- Filter all without medical insurance\n",
    "- Filter all where no problems with MRI\n",
    "- Filter all who could not walk 400m at baseline\n"
   ]
  },
  {
   "cell_type": "code",
   "execution_count": 42,
   "id": "46200599",
   "metadata": {},
   "outputs": [],
   "source": [
    "path = \"~/OAIdata21/\"\n",
    "files = os.listdir(path)\n",
    "reg = re.compile(r'^AllClinical.*txt')\n",
    "all_clinical = [file for file in files if reg.match(file)]"
   ]
  },
  {
   "cell_type": "code",
   "execution_count": 43,
   "id": "b999a594",
   "metadata": {},
   "outputs": [],
   "source": [
    "all_clinical_df = [pd.read_csv(path + file, sep='|', index_col=\"ID\") for file in all_clinical]\n",
    "outcomes_df = pd.read_csv(path + \"Outcomes99.txt\", sep='|', index_col=\"id\")\n",
    "outcomes_df.index.names = [\"ID\"]\n",
    "subjects_df = pd.concat([*all_clinical_df, outcomes_df], axis=1)\n",
    "subjects_df = subjects_df.reset_index()"
   ]
  },
  {
   "cell_type": "code",
   "execution_count": 44,
   "id": "4133fb3b",
   "metadata": {},
   "outputs": [
    {
     "name": "stdout",
     "output_type": "stream",
     "text": [
      "Initial subject count: 4796\n",
      "Subject count with insurance: 4145\n",
      "Subject count without MRI problems: 3871\n",
      "Subject count that could walk 400m: 3655\n",
      "Went from 4796 subjects, to 3655 subjects.\n"
     ]
    }
   ],
   "source": [
    "# Formatting columns and cleaning\n",
    "df = subjects_df.copy()\n",
    "print(f\"Initial subject count: {df.shape[0]}\")\n",
    "\n",
    "# Keep subjects with medical insurance\n",
    "df = df[df[\"V00MEDINS\"] == \"1: Yes\"]\n",
    "print(f\"Subject count with insurance: {df.shape[0]}\")\n",
    "\n",
    "# Keep subjects without MRI problems\n",
    "df = df[df[\"P01MRPRBCV\"] == \"0: No\"]\n",
    "print(f\"Subject count without MRI problems: {df.shape[0]}\")\n",
    "\n",
    "# Keep subjects that completed 400m walk\n",
    "df = df[df[\"V00400MCMP\"].isin([\"1: Completed test without stopping\", \"2: Completed test with one or more rests\"])]\n",
    "print(f\"Subject count that could walk 400m: {df.shape[0]}\")\n",
    "\n",
    "df[\"TKR-R\"] = np.where(df[\"V99ERKDAYS\"] == \".: Missing Form/Incomplete Workbook\", 0, 1)\n",
    "df[\"TKR-L\"] = np.where(df[\"V99ELKDAYS\"] == \".: Missing Form/Incomplete Workbook\", 0, 1)\n",
    "\n",
    "last_visit_dict = {\n",
    "    \".: Missing Form/Incomplete Workbook\": -1,\n",
    "    \"10: 96-month\": 10,\n",
    "    \"9: 84-month\": 9,\n",
    "    \"8: 72-month\": 8,\n",
    "    \"7: 60-month\": 7,\n",
    "    \"6: 48-month\": 6,\n",
    "    \"1: 12-month\": 1,\n",
    "    \"5: 36-month\": 5,\n",
    "    \"3: 24-month\": 3,\n",
    "    \"0: Baseline\": 0,\n",
    "    \"4: 30-month\": 4, \n",
    "    \"2: 18-month\": 2\n",
    "}\n",
    "df = df.replace({\"V99ERKVSPR\": last_visit_dict, \"V99ELKVSPR\": last_visit_dict})\n",
    "\n",
    "# Columns: Subject id, Age at baseline, BMI at baseline, last visit before right tkr, last visit before left tkr, right tkr, left tkr\n",
    "columns = [\"ID\", \"V00AGE\", \"P01BMI\", \"V99ERKVSPR\", \"V99ELKVSPR\", \"TKR-R\", \"TKR-L\"]\n",
    "df = df[columns]\n",
    "print(f\"Went from {subjects_df.shape[0]} subjects, to {df.shape[0]} subjects.\")"
   ]
  },
  {
   "cell_type": "code",
   "execution_count": 65,
   "id": "517ce09d",
   "metadata": {},
   "outputs": [
    {
     "data": {
      "text/html": [
       "<div>\n",
       "<style scoped>\n",
       "    .dataframe tbody tr th:only-of-type {\n",
       "        vertical-align: middle;\n",
       "    }\n",
       "\n",
       "    .dataframe tbody tr th {\n",
       "        vertical-align: top;\n",
       "    }\n",
       "\n",
       "    .dataframe thead th {\n",
       "        text-align: right;\n",
       "    }\n",
       "</style>\n",
       "<table border=\"1\" class=\"dataframe\">\n",
       "  <thead>\n",
       "    <tr style=\"text-align: right;\">\n",
       "      <th></th>\n",
       "      <th>subject_id_and_knee</th>\n",
       "      <th>age</th>\n",
       "      <th>BMI</th>\n",
       "      <th>last_visit_before_tkr</th>\n",
       "      <th>TKR</th>\n",
       "      <th>is_right</th>\n",
       "    </tr>\n",
       "  </thead>\n",
       "  <tbody>\n",
       "    <tr>\n",
       "      <th>0</th>\n",
       "      <td>9000296-R</td>\n",
       "      <td>69</td>\n",
       "      <td>29.8</td>\n",
       "      <td>-1</td>\n",
       "      <td>0</td>\n",
       "      <td>True</td>\n",
       "    </tr>\n",
       "    <tr>\n",
       "      <th>1</th>\n",
       "      <td>9000798-R</td>\n",
       "      <td>56</td>\n",
       "      <td>32.4</td>\n",
       "      <td>-1</td>\n",
       "      <td>0</td>\n",
       "      <td>True</td>\n",
       "    </tr>\n",
       "    <tr>\n",
       "      <th>2</th>\n",
       "      <td>9001695-R</td>\n",
       "      <td>52</td>\n",
       "      <td>28.6</td>\n",
       "      <td>-1</td>\n",
       "      <td>0</td>\n",
       "      <td>True</td>\n",
       "    </tr>\n",
       "    <tr>\n",
       "      <th>3</th>\n",
       "      <td>9001897-R</td>\n",
       "      <td>72</td>\n",
       "      <td>25.9</td>\n",
       "      <td>-1</td>\n",
       "      <td>0</td>\n",
       "      <td>True</td>\n",
       "    </tr>\n",
       "    <tr>\n",
       "      <th>4</th>\n",
       "      <td>9002316-R</td>\n",
       "      <td>76</td>\n",
       "      <td>25.1</td>\n",
       "      <td>-1</td>\n",
       "      <td>0</td>\n",
       "      <td>True</td>\n",
       "    </tr>\n",
       "  </tbody>\n",
       "</table>\n",
       "</div>"
      ],
      "text/plain": [
       "  subject_id_and_knee  age   BMI  last_visit_before_tkr  TKR  is_right\n",
       "0           9000296-R   69  29.8                     -1    0      True\n",
       "1           9000798-R   56  32.4                     -1    0      True\n",
       "2           9001695-R   52  28.6                     -1    0      True\n",
       "3           9001897-R   72  25.9                     -1    0      True\n",
       "4           9002316-R   76  25.1                     -1    0      True"
      ]
     },
     "execution_count": 65,
     "metadata": {},
     "output_type": "execute_result"
    }
   ],
   "source": [
    "# Split each subject into left and right knee\n",
    "new_cols = [\"subject_id_and_knee\", \"age\", \"BMI\", \"last_visit_before_tkr\", \"TKR\", \"is_right\"]\n",
    "\n",
    "right_df = df.copy()\n",
    "right_df = right_df.rename(columns={\"V00AGE\": \"age\", \"P01BMI\": \"BMI\", \"V99ERKVSPR\": \"last_visit_before_tkr\", \"TKR-R\": \"TKR\"})\n",
    "right_df[\"is_right\"] = True\n",
    "right_df = right_df\n",
    "\n",
    "left_df = df.copy()\n",
    "left_df = left_df.rename(columns={\"V00AGE\": \"age\", \"P01BMI\": \"BMI\", \"V99ELKVSPR\": \"last_visit_before_tkr\", \"TKR-L\": \"TKR\"})\n",
    "left_df[\"is_right\"] = False\n",
    "left_df = left_df\n",
    "\n",
    "split_df = pd.concat([right_df, left_df], ignore_index=True)\n",
    "split_df[\"subject_id_and_knee\"] = split_df.apply(lambda row: str(row[\"ID\"]) + (\"-R\" if row[\"is_right\"] else \"-L\"), axis=1)\n",
    "\n",
    "df = split_df[new_cols]\n",
    "df.set_index(\"subject_id_and_knee\")\n",
    "df.head()\n"
   ]
  },
  {
   "cell_type": "code",
   "execution_count": 66,
   "id": "7e64eb53",
   "metadata": {},
   "outputs": [
    {
     "name": "stdout",
     "output_type": "stream",
     "text": [
      "426 TKR samples\n",
      "6884 non TKR samples \n"
     ]
    }
   ],
   "source": [
    "TKR_df = df[(df[\"TKR\"] == True)]\n",
    "non_TKR_df = df.drop(TKR_df.index)\n",
    "\n",
    "print(f\"{TKR_df.shape[0]} TKR samples\\n{non_TKR_df.shape[0]} non TKR samples \")"
   ]
  },
  {
   "cell_type": "code",
   "execution_count": 67,
   "id": "48536cd2",
   "metadata": {},
   "outputs": [],
   "source": [
    "dataset_df = pd.DataFrame(columns=new_cols)\n",
    "#dataset_df.set_index(\"subject_id_and_knee\", inplace=True)\n",
    "\n",
    "potential_matches_df = non_TKR_df.copy()\n",
    "exclude_TKR_indices = []\n",
    "\n",
    "for i, p in TKR_df.iterrows():\n",
    "    age = p[\"age\"]\n",
    "    bmi = p[\"BMI\"]\n",
    "    \n",
    "    age_match_df = potential_matches_df[potential_matches_df[\"age\"].between(age - 4, age + 4, inclusive=\"both\")]\n",
    "    bmi_match_df = age_match_df[age_match_df[\"BMI\"].between(bmi - 2, bmi + 2, inclusive=\"both\")]\n",
    "    \n",
    "    n = min(bmi_match_df.shape[0], 2)\n",
    "    if n == 0:\n",
    "        exclude_TKR_indices.append(i)\n",
    "        continue\n",
    "        \n",
    "    matches = bmi_match_df.sample(n=n)\n",
    "    potential_matches_df.drop(matches.index.values, inplace=True)\n",
    "    \n",
    "    dataset_df = pd.concat([dataset_df, matches], axis=0)\n",
    "    \n",
    "dataset_df = pd.concat([dataset_df, TKR_df.drop(exclude_TKR_indices)], axis=0)"
   ]
  },
  {
   "cell_type": "code",
   "execution_count": 68,
   "id": "0cdcef38",
   "metadata": {},
   "outputs": [
    {
     "data": {
      "text/html": [
       "<div>\n",
       "<style scoped>\n",
       "    .dataframe tbody tr th:only-of-type {\n",
       "        vertical-align: middle;\n",
       "    }\n",
       "\n",
       "    .dataframe tbody tr th {\n",
       "        vertical-align: top;\n",
       "    }\n",
       "\n",
       "    .dataframe thead th {\n",
       "        text-align: right;\n",
       "    }\n",
       "</style>\n",
       "<table border=\"1\" class=\"dataframe\">\n",
       "  <thead>\n",
       "    <tr style=\"text-align: right;\">\n",
       "      <th></th>\n",
       "      <th>age</th>\n",
       "      <th>BMI</th>\n",
       "      <th>last_visit_before_tkr</th>\n",
       "      <th>TKR</th>\n",
       "      <th>is_right</th>\n",
       "      <th>subject_id_and_knee</th>\n",
       "    </tr>\n",
       "  </thead>\n",
       "  <tbody>\n",
       "    <tr>\n",
       "      <th>2958</th>\n",
       "      <td>64</td>\n",
       "      <td>27.2</td>\n",
       "      <td>-1</td>\n",
       "      <td>0</td>\n",
       "      <td>True</td>\n",
       "      <td>9800154-R</td>\n",
       "    </tr>\n",
       "    <tr>\n",
       "      <th>6863</th>\n",
       "      <td>65</td>\n",
       "      <td>27.5</td>\n",
       "      <td>-1</td>\n",
       "      <td>0</td>\n",
       "      <td>False</td>\n",
       "      <td>9873103-L</td>\n",
       "    </tr>\n",
       "    <tr>\n",
       "      <th>1566</th>\n",
       "      <td>61</td>\n",
       "      <td>21.1</td>\n",
       "      <td>-1</td>\n",
       "      <td>0</td>\n",
       "      <td>True</td>\n",
       "      <td>9460287-R</td>\n",
       "    </tr>\n",
       "    <tr>\n",
       "      <th>1550</th>\n",
       "      <td>61</td>\n",
       "      <td>22.4</td>\n",
       "      <td>-1</td>\n",
       "      <td>0</td>\n",
       "      <td>True</td>\n",
       "      <td>9457718-R</td>\n",
       "    </tr>\n",
       "    <tr>\n",
       "      <th>31</th>\n",
       "      <td>63</td>\n",
       "      <td>30.7</td>\n",
       "      <td>-1</td>\n",
       "      <td>0</td>\n",
       "      <td>True</td>\n",
       "      <td>9008884-R</td>\n",
       "    </tr>\n",
       "  </tbody>\n",
       "</table>\n",
       "</div>"
      ],
      "text/plain": [
       "     age   BMI last_visit_before_tkr TKR is_right subject_id_and_knee\n",
       "2958  64  27.2                    -1   0     True           9800154-R\n",
       "6863  65  27.5                    -1   0    False           9873103-L\n",
       "1566  61  21.1                    -1   0     True           9460287-R\n",
       "1550  61  22.4                    -1   0     True           9457718-R\n",
       "31    63  30.7                    -1   0     True           9008884-R"
      ]
     },
     "execution_count": 68,
     "metadata": {},
     "output_type": "execute_result"
    }
   ],
   "source": [
    "dataset_df.head()#.set_index(\"subject_id_and_knee\").head()"
   ]
  },
  {
   "cell_type": "code",
   "execution_count": 48,
   "id": "a87169fe",
   "metadata": {},
   "outputs": [],
   "source": [
    "dataset_df.to_csv(\"subjects.csv\")"
   ]
  },
  {
   "cell_type": "markdown",
   "id": "82f7573f",
   "metadata": {},
   "source": [
    "# Get images from subjects"
   ]
  },
  {
   "cell_type": "code",
   "execution_count": 54,
   "id": "f6bde19a",
   "metadata": {},
   "outputs": [],
   "source": [
    "image_filenames = os.listdir(\"~/ucph-erda-home/Osteoarthritis-initiative/NIFTY\")\n",
    "image_files = []\n",
    "\n",
    "for subject_idx, subject_info in dataset_df.iterrows():\n",
    "    last_visit_right = 12\n",
    "    last_visit_left = 12\n",
    "\n",
    "    subject_id = subject_info[\"subject_id_and_knee\"][:-2]\n",
    "    \n",
    "    if subject_info[\"TKR\"] and subject_info[\"is_right\"]:\n",
    "        last_visit_right = subject_info[\"last_visit_before_tkr\"]\n",
    "        \n",
    "    if subject_info[\"TKR\"] and not subject_info[\"is_right\"]:\n",
    "        last_visit_left = subject_info[\"last_visit_before_tkr\"]\n",
    "        \n",
    "    right, left = get_patient_images_from_id(image_filenames, subject_id, last_visit_right=last_visit_right, last_visit_left=last_visit_left)\n",
    "    \n",
    "    image_files += right + left"
   ]
  },
  {
   "cell_type": "code",
   "execution_count": 55,
   "id": "1d04f54d",
   "metadata": {},
   "outputs": [
    {
     "name": "stdout",
     "output_type": "stream",
     "text": [
      "Found 4925 images\n"
     ]
    }
   ],
   "source": [
    "print(f\"Found {len(image_files)} images\")\n",
    "with open(\"subject_images.txt\", \"w\") as f:\n",
    "    for file in image_files:\n",
    "        f.write(file + \"\\n\")"
   ]
  },
  {
   "cell_type": "code",
   "execution_count": 78,
   "id": "b3c1c0ca",
   "metadata": {},
   "outputs": [
    {
     "data": {
      "text/plain": [
       "64"
      ]
     },
     "execution_count": 78,
     "metadata": {},
     "output_type": "execute_result"
    }
   ],
   "source": [
    "row = dataset_df.loc[\"9800154-R\"]\n",
    "row[\"age\"]"
   ]
  },
  {
   "cell_type": "code",
   "execution_count": null,
   "id": "9fbd0ebf",
   "metadata": {},
   "outputs": [],
   "source": []
  }
 ],
 "metadata": {
  "kernelspec": {
   "display_name": "Python 3 (ipykernel)",
   "language": "python",
   "name": "python3"
  },
  "language_info": {
   "codemirror_mode": {
    "name": "ipython",
    "version": 3
   },
   "file_extension": ".py",
   "mimetype": "text/x-python",
   "name": "python",
   "nbconvert_exporter": "python",
   "pygments_lexer": "ipython3",
   "version": "3.7.5"
  },
  "vscode": {
   "interpreter": {
    "hash": "b1103d541099b0dd44b9ab66b416a9bfac2b68374e82fd05aa2957090a8270d5"
   }
  }
 },
 "nbformat": 4,
 "nbformat_minor": 5
}
