{
 "cells": [
  {
   "cell_type": "code",
   "execution_count": 5,
   "id": "2482f1bc",
   "metadata": {},
   "outputs": [],
   "source": [
    "#!pip install nibabel"
   ]
  },
  {
   "cell_type": "code",
   "execution_count": 6,
   "id": "17e1054b",
   "metadata": {},
   "outputs": [],
   "source": [
    "import os\n",
    "import nibabel as nib\n",
    "import numpy as np\n",
    "import pandas as pd\n",
    "import h5py\n",
    "import re"
   ]
  },
  {
   "cell_type": "code",
   "execution_count": 7,
   "id": "b8a43d8f",
   "metadata": {},
   "outputs": [],
   "source": [
    "def get_patient_images_from_id(filenames, subject_id, last_visit_right=12, last_visit_left=12):\n",
    "    possible_right_images = {str(subject_id) + \"-\" + \"Right\" + \"-\" + f\"V{visit:02}.nii.gz\" for visit in range(last_visit_right)}\n",
    "    possible_left_images = {str(subject_id) + \"-\" + \"Left\" + \"-\" + f\"V{visit:02}.nii.gz\" for visit in range(last_visit_left)}\n",
    "    files = set(filenames)\n",
    "    return list(possible_right_images & files), list(possible_left_images & files)"
   ]
  },
  {
   "cell_type": "markdown",
   "id": "01f89153",
   "metadata": {},
   "source": [
    "# Creating subjects dataset\n",
    "### Steps:\n",
    "- Filter all subjects with images\n",
    "- Find all subjects with left or right TKR\n",
    "- For each TKR subject\n",
    "    - Filter all subjects without TKR\n",
    "    - Filter all subjects with bmi +- 2\n",
    "    - Filter all subjects with age +- 4\n",
    "    - Take random (max 2)\n",
    "    - If less than 4, discard TKR patient\n",
    "    - For TKR patient take last 3 visits before TKR\n",
    "- Filter all without medical insurance\n",
    "- Filter all where no problems with MRI\n",
    "- Filter all who could not walk 400m at baseline\n"
   ]
  },
  {
   "cell_type": "code",
   "execution_count": 8,
   "id": "46200599",
   "metadata": {},
   "outputs": [],
   "source": [
    "path = \"../OAIdata21/\"\n",
    "files = os.listdir(path)\n",
    "reg = re.compile(r'^AllClinical.*txt')\n",
    "all_clinical = [file for file in files if reg.match(file)]"
   ]
  },
  {
   "cell_type": "code",
   "execution_count": 9,
   "id": "b999a594",
   "metadata": {},
   "outputs": [],
   "source": [
    "all_clinical_df = [pd.read_csv(path + file, sep='|', index_col=\"ID\") for file in all_clinical]\n",
    "outcomes_df = pd.read_csv(path + \"Outcomes99.txt\", sep='|', index_col=\"id\")\n",
    "outcomes_df.index.names = ['ID']\n",
    "subjects_df = pd.concat([*all_clinical_df, outcomes_df], axis=1)"
   ]
  },
  {
   "cell_type": "code",
   "execution_count": 10,
   "id": "4133fb3b",
   "metadata": {},
   "outputs": [
    {
     "name": "stdout",
     "output_type": "stream",
     "text": [
      "Initial subject count: 4796\n",
      "Subject count with insurance: 4145\n",
      "Subject count without MRI problems: 3871\n",
      "Subject count that could walk 400m: 3655\n",
      "Went from 4796 subjects, to 3655 subjects.\n"
     ]
    }
   ],
   "source": [
    "# Formatting columns and cleaning\n",
    "df = subjects_df.copy()\n",
    "print(f\"Initial subject count: {df.shape[0]}\")\n",
    "\n",
    "# Keep subjects with medical insurance\n",
    "df = df[df[\"V00MEDINS\"] == \"1: Yes\"]\n",
    "print(f\"Subject count with insurance: {df.shape[0]}\")\n",
    "\n",
    "# Keep subjects without MRI problems\n",
    "df = df[df[\"P01MRPRBCV\"] == \"0: No\"]\n",
    "print(f\"Subject count without MRI problems: {df.shape[0]}\")\n",
    "\n",
    "# Keep subjects that completed 400m walk\n",
    "df = df[df[\"V00400MCMP\"].isin([\"1: Completed test without stopping\", \"2: Completed test with one or more rests\"])]\n",
    "print(f\"Subject count that could walk 400m: {df.shape[0]}\")\n",
    "\n",
    "df[\"Right TKR\"] = np.where(df[\"V99ERKDAYS\"] == \".: Missing Form/Incomplete Workbook\", 0, 1)\n",
    "df[\"Left TKR\"] = np.where(df[\"V99ELKDAYS\"] == \".: Missing Form/Incomplete Workbook\", 0, 1)\n",
    "df[\"TKR\"] = df[[\"Right TKR\", \"Left TKR\"]].any(axis=\"columns\")\n",
    "\n",
    "last_visit_dict = {\n",
    "    \".: Missing Form/Incomplete Workbook\": -1,\n",
    "    \"10: 96-month\": 10,\n",
    "    \"9: 84-month\": 9,\n",
    "    \"8: 72-month\": 8,\n",
    "    \"7: 60-month\": 7,\n",
    "    \"6: 48-month\": 6,\n",
    "    \"1: 12-month\": 1,\n",
    "    \"5: 36-month\": 5,\n",
    "    \"3: 24-month\": 3,\n",
    "    \"0: Baseline\": 0,\n",
    "    \"4: 30-month\": 4, \n",
    "    \"2: 18-month\": 2\n",
    "}\n",
    "df = df.replace({\"V99ERKVSPR\": last_visit_dict, \"V99ELKVSPR\": last_visit_dict})\n",
    "\n",
    "columns = [\"V00AGE\", \"P01BMI\", \"V99ERKVSPR\", \"V99ELKVSPR\", \"Right TKR\", \"Left TKR\", \"TKR\"]\n",
    "\n",
    "print(f\"Went from {subjects_df.shape[0]} subjects, to {df.shape[0]} subjects.\")"
   ]
  },
  {
   "cell_type": "code",
   "execution_count": 11,
   "id": "7e64eb53",
   "metadata": {},
   "outputs": [
    {
     "name": "stdout",
     "output_type": "stream",
     "text": [
      "336 TKR subjects\n",
      "3319 non TKR subjects \n"
     ]
    }
   ],
   "source": [
    "TKR_df = df[df[\"TKR\"] == True][columns]\n",
    "non_TKR_df = df[df[\"TKR\"] == False][columns]\n",
    "\n",
    "print(f\"{TKR_df.shape[0]} TKR subjects\\n{non_TKR_df.shape[0]} non TKR subjects \")"
   ]
  },
  {
   "cell_type": "code",
   "execution_count": 12,
   "id": "48536cd2",
   "metadata": {},
   "outputs": [],
   "source": [
    "dataset_df = pd.DataFrame(columns=[\"ID\", *columns])\n",
    "dataset_df.set_index(\"ID\", inplace=True)\n",
    "\n",
    "potential_matches_df = non_TKR_df.copy()\n",
    "exclude_TKR_indices = []\n",
    "\n",
    "for i, p in TKR_df.iterrows():\n",
    "    age = p[\"V00AGE\"]\n",
    "    bmi = p[\"P01BMI\"]\n",
    "    \n",
    "    age_match_df = potential_matches_df[potential_matches_df[\"V00AGE\"].between(age - 4, age + 4, inclusive=\"both\")]\n",
    "    bmi_match_df = age_match_df[age_match_df[\"P01BMI\"].between(bmi - 2, bmi + 2, inclusive=\"both\")]\n",
    "    \n",
    "    n = min(bmi_match_df.shape[0], 2)\n",
    "    if n == 0:\n",
    "        exclude_TKR_indices.append(i)\n",
    "        continue\n",
    "        \n",
    "    matches = bmi_match_df.sample(n=n)\n",
    "    potential_matches_df.drop(matches.index.values, inplace=True)\n",
    "    \n",
    "    dataset_df = pd.concat([dataset_df, matches], axis=0)\n",
    "    \n",
    "dataset_df = pd.concat([dataset_df, TKR_df.drop(exclude_TKR_indices)], axis=0)"
   ]
  },
  {
   "cell_type": "code",
   "execution_count": 13,
   "id": "0cdcef38",
   "metadata": {},
   "outputs": [
    {
     "data": {
      "text/plain": [
       "False    670\n",
       "True     335\n",
       "Name: TKR, dtype: int64"
      ]
     },
     "execution_count": 13,
     "metadata": {},
     "output_type": "execute_result"
    }
   ],
   "source": [
    "dataset_df[\"TKR\"].value_counts()"
   ]
  },
  {
   "cell_type": "code",
   "execution_count": 14,
   "id": "a87169fe",
   "metadata": {},
   "outputs": [],
   "source": [
    "dataset_df.to_csv(\"subjects.csv\")"
   ]
  },
  {
   "cell_type": "markdown",
   "id": "82f7573f",
   "metadata": {},
   "source": [
    "# Get images from subjects"
   ]
  },
  {
   "cell_type": "code",
   "execution_count": 15,
   "id": "f6bde19a",
   "metadata": {},
   "outputs": [],
   "source": [
    "image_filenames = list(np.loadtxt(\"oai-files.txt\", dtype=str))\n",
    "image_files = []\n",
    "\n",
    "for subject_id, subject_info in dataset_df.iterrows():\n",
    "    last_visit_right = 12\n",
    "    last_visit_left = 12\n",
    "    \n",
    "    if subject_info[\"Right TKR\"] == 1:\n",
    "        last_visit_right = subject_info[\"V99ERKVSPR\"]\n",
    "        \n",
    "    if subject_info[\"Left TKR\"] == 1:\n",
    "        last_visit_left = subject_info[\"V99ELKVSPR\"]\n",
    "        \n",
    "    right, left = get_patient_images_from_id(image_filenames, subject_id, last_visit_right=last_visit_right, last_visit_left=last_visit_left)\n",
    "    \n",
    "    image_files += right + left"
   ]
  },
  {
   "cell_type": "code",
   "execution_count": 16,
   "id": "1d04f54d",
   "metadata": {},
   "outputs": [
    {
     "name": "stdout",
     "output_type": "stream",
     "text": [
      "Found 3803 images\n"
     ]
    }
   ],
   "source": [
    "print(f\"Found {len(image_files)} images\")\n",
    "with open(\"subject_images.txt\", \"w\") as f:\n",
    "    for file in image_files:\n",
    "        f.write(file + \"\\n\")"
   ]
  },
  {
   "cell_type": "code",
   "execution_count": 17,
   "id": "b4fbe4fe",
   "metadata": {},
   "outputs": [
    {
     "data": {
      "text/html": [
       "<div>\n",
       "<style scoped>\n",
       "    .dataframe tbody tr th:only-of-type {\n",
       "        vertical-align: middle;\n",
       "    }\n",
       "\n",
       "    .dataframe tbody tr th {\n",
       "        vertical-align: top;\n",
       "    }\n",
       "\n",
       "    .dataframe thead th {\n",
       "        text-align: right;\n",
       "    }\n",
       "</style>\n",
       "<table border=\"1\" class=\"dataframe\">\n",
       "  <thead>\n",
       "    <tr style=\"text-align: right;\">\n",
       "      <th></th>\n",
       "      <th>V00AGE</th>\n",
       "      <th>P01BMI</th>\n",
       "      <th>V99ERKVSPR</th>\n",
       "      <th>V99ELKVSPR</th>\n",
       "      <th>Right TKR</th>\n",
       "      <th>Left TKR</th>\n",
       "      <th>TKR</th>\n",
       "    </tr>\n",
       "    <tr>\n",
       "      <th>ID</th>\n",
       "      <th></th>\n",
       "      <th></th>\n",
       "      <th></th>\n",
       "      <th></th>\n",
       "      <th></th>\n",
       "      <th></th>\n",
       "      <th></th>\n",
       "    </tr>\n",
       "  </thead>\n",
       "  <tbody>\n",
       "    <tr>\n",
       "      <th>9011918</th>\n",
       "      <td>62</td>\n",
       "      <td>23.1</td>\n",
       "      <td>-1</td>\n",
       "      <td>1</td>\n",
       "      <td>0</td>\n",
       "      <td>1</td>\n",
       "      <td>True</td>\n",
       "    </tr>\n",
       "    <tr>\n",
       "      <th>9014797</th>\n",
       "      <td>67</td>\n",
       "      <td>26.4</td>\n",
       "      <td>9</td>\n",
       "      <td>-1</td>\n",
       "      <td>1</td>\n",
       "      <td>0</td>\n",
       "      <td>True</td>\n",
       "    </tr>\n",
       "    <tr>\n",
       "      <th>9014883</th>\n",
       "      <td>74</td>\n",
       "      <td>31.1</td>\n",
       "      <td>-1</td>\n",
       "      <td>6</td>\n",
       "      <td>0</td>\n",
       "      <td>1</td>\n",
       "      <td>True</td>\n",
       "    </tr>\n",
       "    <tr>\n",
       "      <th>9015363</th>\n",
       "      <td>64</td>\n",
       "      <td>23.0</td>\n",
       "      <td>5</td>\n",
       "      <td>-1</td>\n",
       "      <td>1</td>\n",
       "      <td>0</td>\n",
       "      <td>True</td>\n",
       "    </tr>\n",
       "    <tr>\n",
       "      <th>9028418</th>\n",
       "      <td>64</td>\n",
       "      <td>29.8</td>\n",
       "      <td>5</td>\n",
       "      <td>-1</td>\n",
       "      <td>1</td>\n",
       "      <td>0</td>\n",
       "      <td>True</td>\n",
       "    </tr>\n",
       "  </tbody>\n",
       "</table>\n",
       "</div>"
      ],
      "text/plain": [
       "        V00AGE  P01BMI V99ERKVSPR V99ELKVSPR Right TKR Left TKR   TKR\n",
       "ID                                                                   \n",
       "9011918     62    23.1         -1          1         0        1  True\n",
       "9014797     67    26.4          9         -1         1        0  True\n",
       "9014883     74    31.1         -1          6         0        1  True\n",
       "9015363     64    23.0          5         -1         1        0  True\n",
       "9028418     64    29.8          5         -1         1        0  True"
      ]
     },
     "execution_count": 17,
     "metadata": {},
     "output_type": "execute_result"
    }
   ],
   "source": [
    "dataset_df[dataset_df[\"TKR\"]].head()"
   ]
  },
  {
   "cell_type": "code",
   "execution_count": null,
   "id": "b3c1c0ca",
   "metadata": {},
   "outputs": [],
   "source": []
  }
 ],
 "metadata": {
  "kernelspec": {
   "display_name": "Python 3.7.5 ('thesisenv')",
   "language": "python",
   "name": "python3"
  },
  "language_info": {
   "codemirror_mode": {
    "name": "ipython",
    "version": 3
   },
   "file_extension": ".py",
   "mimetype": "text/x-python",
   "name": "python",
   "nbconvert_exporter": "python",
   "pygments_lexer": "ipython3",
   "version": "3.7.5"
  },
  "vscode": {
   "interpreter": {
    "hash": "b1103d541099b0dd44b9ab66b416a9bfac2b68374e82fd05aa2957090a8270d5"
   }
  }
 },
 "nbformat": 4,
 "nbformat_minor": 5
}
