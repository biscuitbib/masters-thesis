{
 "cells": [
  {
   "cell_type": "code",
   "execution_count": null,
   "metadata": {},
   "outputs": [],
   "source": [
    "!pwd"
   ]
  },
  {
   "cell_type": "code",
   "execution_count": null,
   "metadata": {},
   "outputs": [],
   "source": [
    "import numpy as np\n",
    "import torch\n",
    "from torch import Tensor, nn, optim\n",
    "import torch.nn.functional as F\n",
    "import torchvision.transforms as T\n",
    "from torchvision.transforms.functional import pad\n",
    "from torch.utils.data import DataLoader\n",
    "from multiprocessing import cpu_count\n",
    "\n",
    "from thesisproject.data.utils import get_slice_loaders\n",
    "from thesisproject.models import UNet\n",
    "from thesisproject.train import training_loop"
   ]
  },
  {
   "cell_type": "code",
   "execution_count": null,
   "metadata": {},
   "outputs": [],
   "source": [
    "class SquarePad:\n",
    "    def __call__(self, image: Tensor):\n",
    "        imsize = image.shape\n",
    "        max_edge = np.argmax(imsize)\n",
    "        pad_amounts = [imsize[max_edge] - imsize[0], imsize[max_edge] - imsize[1], imsize[max_edge] - imsize[2]]\n",
    "\n",
    "        padding = [int(np.floor(pad_amounts[0] / 2)),\n",
    "                   int(np.ceil(pad_amounts[0] / 2)),\n",
    "                   int(np.floor(pad_amounts[1] / 2)),\n",
    "                   int(np.ceil(pad_amounts[1] / 2)),\n",
    "                   int(np.floor(pad_amounts[2] / 2)),\n",
    "                   int(np.ceil(pad_amounts[2] / 2)),] #left, right, top, bottom, front, back\n",
    "        padding = tuple(padding[::-1])\n",
    "\n",
    "        padded_im = F.pad(image, padding, \"constant\", 0)\n",
    "        return padded_im\n",
    "\n",
    "class Standardize:\n",
    "    def __call__(self, image: Tensor):\n",
    "        \"\"\"\n",
    "        Normalize image to 0 mean and standard deviation 1\n",
    "        \"\"\"\n",
    "        \n",
    "        std, mean = torch.std_mean(image)\n",
    "        return (image - mean) / std"
   ]
  },
  {
   "cell_type": "code",
   "execution_count": null,
   "metadata": {},
   "outputs": [],
   "source": [
    "path = \"../knee_data/\"\n",
    "volume_transform = T.Compose([SquarePad(), Standardize()])\n",
    "label_transform = SquarePad()\n",
    "\n",
    "train_data, val_data = get_slice_loaders(path, volume_transform=volume_transform, label_transform=label_transform)\n",
    "\n",
    "train_loader = DataLoader(train_data, batch_size=8, num_workers=4)\n",
    "val_loader = DataLoader(val_data, batch_size=8, num_workers=4)\n",
    "\n",
    "## Train\n",
    "label_keys = [\"Lateral femoral cart.\",\n",
    "                \"Lateral meniscus\",\n",
    "                \"Lateral tibial cart.\",\n",
    "                \"Medial femoral cartilage\",\n",
    "                \"Medial meniscus\",\n",
    "                \"Medial tibial cart.\",\n",
    "                \"Patellar cart.\",\n",
    "                \"Tibia\"]\n",
    "net = UNet(1, 9, 384, class_names=label_keys)\n",
    "\n",
    "criterion = nn.CrossEntropyLoss()\n",
    "optimizer = optim.Adam(net.parameters(), lr=5e-5)"
   ]
  },
  {
   "cell_type": "code",
   "execution_count": null,
   "metadata": {},
   "outputs": [],
   "source": [
    "training_loop(\n",
    "    net,\n",
    "    criterion,\n",
    "    optimizer,\n",
    "    train_loader,\n",
    "    val_loader,\n",
    "    num_epochs=100,\n",
    "    cont=True\n",
    ")"
   ]
  }
 ],
 "metadata": {
  "kernelspec": {
   "display_name": "Python 3 (ipykernel)",
   "language": "python",
   "name": "python3"
  },
  "language_info": {
   "codemirror_mode": {
    "name": "ipython",
    "version": 3
   },
   "file_extension": ".py",
   "mimetype": "text/x-python",
   "name": "python",
   "nbconvert_exporter": "python",
   "pygments_lexer": "ipython3",
   "version": "3.9.13"
  },
  "orig_nbformat": 4,
  "vscode": {
   "interpreter": {
    "hash": "b1103d541099b0dd44b9ab66b416a9bfac2b68374e82fd05aa2957090a8270d5"
   }
  }
 },
 "nbformat": 4,
 "nbformat_minor": 2
}
