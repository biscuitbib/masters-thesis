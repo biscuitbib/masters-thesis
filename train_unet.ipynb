{
 "cells": [
  {
   "cell_type": "code",
   "execution_count": 5,
   "metadata": {},
   "outputs": [
    {
     "name": "stdout",
     "output_type": "stream",
     "text": [
      "/notebooks/masters-thesis\n"
     ]
    }
   ],
   "source": [
    "!pwd"
   ]
  },
  {
   "cell_type": "code",
   "execution_count": 6,
   "metadata": {},
   "outputs": [],
   "source": [
    "import numpy as np\n",
    "import torch\n",
    "from torch import Tensor, nn, optim\n",
    "import torch.nn.functional as F\n",
    "import torchvision.transforms as T\n",
    "from torchvision.transforms.functional import pad\n",
    "from torch.utils.data import DataLoader\n",
    "from multiprocessing import cpu_count\n",
    "\n",
    "from thesisproject.data.utils import get_slice_loaders\n",
    "from thesisproject.models import UNet\n",
    "from thesisproject.train import training_loop"
   ]
  },
  {
   "cell_type": "code",
   "execution_count": 7,
   "metadata": {},
   "outputs": [],
   "source": [
    "class SquarePad:\n",
    "    def __call__(self, image: Tensor):\n",
    "        imsize = image.shape\n",
    "        max_edge = np.argmax(imsize)\n",
    "        pad_amounts = [imsize[max_edge] - imsize[0], imsize[max_edge] - imsize[1], imsize[max_edge] - imsize[2]]\n",
    "\n",
    "        padding = [int(np.floor(pad_amounts[0] / 2)),\n",
    "                   int(np.ceil(pad_amounts[0] / 2)),\n",
    "                   int(np.floor(pad_amounts[1] / 2)),\n",
    "                   int(np.ceil(pad_amounts[1] / 2)),\n",
    "                   int(np.floor(pad_amounts[2] / 2)),\n",
    "                   int(np.ceil(pad_amounts[2] / 2)),] #left, right, top, bottom, front, back\n",
    "        padding = tuple(padding[::-1])\n",
    "\n",
    "        padded_im = F.pad(image, padding, \"constant\", 0)\n",
    "        return padded_im\n",
    "\n",
    "class Standardize:\n",
    "    def __call__(self, image: Tensor):\n",
    "        \"\"\"\n",
    "        Normalize image to 0 mean and standard deviation 1\n",
    "        \"\"\"\n",
    "        \n",
    "        std, mean = torch.std_mean(image)\n",
    "        return (image - mean) / std"
   ]
  },
  {
   "cell_type": "code",
   "execution_count": 8,
   "metadata": {},
   "outputs": [
    {
     "ename": "TypeError",
     "evalue": "__init__() got an unexpected keyword argument 'in_channels'",
     "output_type": "error",
     "traceback": [
      "\u001b[0;31m---------------------------------------------------------------------------\u001b[0m",
      "\u001b[0;31mTypeError\u001b[0m                                 Traceback (most recent call last)",
      "\u001b[1;32m/Users/niklas/Documents/DIKU/Master's Thesis/masters-thesis/train_unet.ipynb Cell 4\u001b[0m in \u001b[0;36m<cell line: 19>\u001b[0;34m()\u001b[0m\n\u001b[1;32m     <a href='vscode-notebook-cell:/Users/niklas/Documents/DIKU/Master%27s%20Thesis/masters-thesis/train_unet.ipynb#W2sZmlsZQ%3D%3D?line=9'>10</a>\u001b[0m \u001b[39m## Train\u001b[39;00m\n\u001b[1;32m     <a href='vscode-notebook-cell:/Users/niklas/Documents/DIKU/Master%27s%20Thesis/masters-thesis/train_unet.ipynb#W2sZmlsZQ%3D%3D?line=10'>11</a>\u001b[0m label_keys \u001b[39m=\u001b[39m [\u001b[39m\"\u001b[39m\u001b[39mLateral femoral cart.\u001b[39m\u001b[39m\"\u001b[39m,\n\u001b[1;32m     <a href='vscode-notebook-cell:/Users/niklas/Documents/DIKU/Master%27s%20Thesis/masters-thesis/train_unet.ipynb#W2sZmlsZQ%3D%3D?line=11'>12</a>\u001b[0m                 \u001b[39m\"\u001b[39m\u001b[39mLateral meniscus\u001b[39m\u001b[39m\"\u001b[39m,\n\u001b[1;32m     <a href='vscode-notebook-cell:/Users/niklas/Documents/DIKU/Master%27s%20Thesis/masters-thesis/train_unet.ipynb#W2sZmlsZQ%3D%3D?line=12'>13</a>\u001b[0m                 \u001b[39m\"\u001b[39m\u001b[39mLateral tibial cart.\u001b[39m\u001b[39m\"\u001b[39m,\n\u001b[0;32m   (...)\u001b[0m\n\u001b[1;32m     <a href='vscode-notebook-cell:/Users/niklas/Documents/DIKU/Master%27s%20Thesis/masters-thesis/train_unet.ipynb#W2sZmlsZQ%3D%3D?line=16'>17</a>\u001b[0m                 \u001b[39m\"\u001b[39m\u001b[39mPatellar cart.\u001b[39m\u001b[39m\"\u001b[39m,\n\u001b[1;32m     <a href='vscode-notebook-cell:/Users/niklas/Documents/DIKU/Master%27s%20Thesis/masters-thesis/train_unet.ipynb#W2sZmlsZQ%3D%3D?line=17'>18</a>\u001b[0m                 \u001b[39m\"\u001b[39m\u001b[39mTibia\u001b[39m\u001b[39m\"\u001b[39m]\n\u001b[0;32m---> <a href='vscode-notebook-cell:/Users/niklas/Documents/DIKU/Master%27s%20Thesis/masters-thesis/train_unet.ipynb#W2sZmlsZQ%3D%3D?line=18'>19</a>\u001b[0m net \u001b[39m=\u001b[39m UNet(\u001b[39m1\u001b[39;49m, \u001b[39m9\u001b[39;49m, \u001b[39m384\u001b[39;49m, class_names\u001b[39m=\u001b[39;49mlabel_keys)\n\u001b[1;32m     <a href='vscode-notebook-cell:/Users/niklas/Documents/DIKU/Master%27s%20Thesis/masters-thesis/train_unet.ipynb#W2sZmlsZQ%3D%3D?line=20'>21</a>\u001b[0m criterion \u001b[39m=\u001b[39m nn\u001b[39m.\u001b[39mCrossEntropyLoss()\n\u001b[1;32m     <a href='vscode-notebook-cell:/Users/niklas/Documents/DIKU/Master%27s%20Thesis/masters-thesis/train_unet.ipynb#W2sZmlsZQ%3D%3D?line=21'>22</a>\u001b[0m optimizer \u001b[39m=\u001b[39m optim\u001b[39m.\u001b[39mAdam(net\u001b[39m.\u001b[39mparameters(), lr\u001b[39m=\u001b[39m\u001b[39m5e-5\u001b[39m)\n",
      "File \u001b[0;32m/notebooks/masters-thesis/thesisproject/models/unet.py:25\u001b[0m, in \u001b[0;36mUNet.__init__\u001b[0;34m(self, n_channels, n_classes, image_size, encoding_size, class_names)\u001b[0m\n\u001b[1;32m     22\u001b[0m \u001b[39mself\u001b[39m\u001b[39m.\u001b[39mdown3 \u001b[39m=\u001b[39m Down(\u001b[39m362\u001b[39m, \u001b[39m724\u001b[39m)\n\u001b[1;32m     23\u001b[0m \u001b[39mself\u001b[39m\u001b[39m.\u001b[39mdown4 \u001b[39m=\u001b[39m Down(\u001b[39m724\u001b[39m, \u001b[39m1448\u001b[39m)\n\u001b[0;32m---> 25\u001b[0m \u001b[39mself\u001b[39m\u001b[39m.\u001b[39mencoder \u001b[39m=\u001b[39m Encoder(\n\u001b[1;32m     26\u001b[0m     in_channels\u001b[39m=\u001b[39;49m\u001b[39m1448\u001b[39;49m,\n\u001b[1;32m     27\u001b[0m     fc_in\u001b[39m=\u001b[39;49m\u001b[39mself\u001b[39;49m\u001b[39m.\u001b[39;49m_calculate_fc_in(),\n\u001b[1;32m     28\u001b[0m     vector_size\u001b[39m=\u001b[39;49mencoding_size\n\u001b[1;32m     29\u001b[0m )\n\u001b[1;32m     31\u001b[0m \u001b[39mself\u001b[39m\u001b[39m.\u001b[39mup1 \u001b[39m=\u001b[39m Up(\u001b[39m1448\u001b[39m, \u001b[39m724\u001b[39m)\n\u001b[1;32m     32\u001b[0m \u001b[39mself\u001b[39m\u001b[39m.\u001b[39mup2 \u001b[39m=\u001b[39m Up(\u001b[39m724\u001b[39m, \u001b[39m362\u001b[39m)\n",
      "File \u001b[0;32m/notebooks/masters-thesis/thesisproject/models/unet_blocks.py:105\u001b[0m, in \u001b[0;36mEncoder.__init__\u001b[0;34m(self, in_channels, fc_in, vector_size)\u001b[0m\n\u001b[1;32m     94\u001b[0m \u001b[39mdef\u001b[39;00m \u001b[39m__init__\u001b[39m(\u001b[39mself\u001b[39m, in_channels, fc_in, vector_size):\n\u001b[1;32m     95\u001b[0m     \u001b[39msuper\u001b[39m()\u001b[39m.\u001b[39m\u001b[39m__init__\u001b[39m()\n\u001b[1;32m     96\u001b[0m     \u001b[39mself\u001b[39m\u001b[39m.\u001b[39mencoder \u001b[39m=\u001b[39m nn\u001b[39m.\u001b[39mSequential(\n\u001b[1;32m     97\u001b[0m         nn\u001b[39m.\u001b[39mMaxPool2d(kernel_size\u001b[39m=\u001b[39m\u001b[39m2\u001b[39m),\n\u001b[1;32m     98\u001b[0m         nn\u001b[39m.\u001b[39mConv2d(\n\u001b[1;32m     99\u001b[0m             in_channels\u001b[39m=\u001b[39min_channels,\n\u001b[1;32m    100\u001b[0m             out_channels\u001b[39m=\u001b[39min_channels\u001b[39m/\u001b[39m\u001b[39m/\u001b[39m\u001b[39m2\u001b[39m,\n\u001b[1;32m    101\u001b[0m             kernel_size\u001b[39m=\u001b[39m\u001b[39m3\u001b[39m,\n\u001b[1;32m    102\u001b[0m             padding\u001b[39m=\u001b[39m\u001b[39m\"\u001b[39m\u001b[39msame\u001b[39m\u001b[39m\"\u001b[39m\n\u001b[1;32m    103\u001b[0m         ),\n\u001b[1;32m    104\u001b[0m         nn\u001b[39m.\u001b[39mReLU(),\n\u001b[0;32m--> 105\u001b[0m         nn\u001b[39m.\u001b[39;49mBatchNorm2d(in_channels\u001b[39m=\u001b[39;49min_channels\u001b[39m/\u001b[39;49m\u001b[39m/\u001b[39;49m\u001b[39m2\u001b[39;49m),\n\u001b[1;32m    106\u001b[0m         nn\u001b[39m.\u001b[39mMaxPool2d(kernel_size\u001b[39m=\u001b[39m\u001b[39m2\u001b[39m),\n\u001b[1;32m    107\u001b[0m         nn\u001b[39m.\u001b[39mConv2d(\n\u001b[1;32m    108\u001b[0m             in_channels\u001b[39m=\u001b[39min_channels\u001b[39m/\u001b[39m\u001b[39m/\u001b[39m\u001b[39m2\u001b[39m,\n\u001b[1;32m    109\u001b[0m             out_channels\u001b[39m=\u001b[39min_channels\u001b[39m/\u001b[39m\u001b[39m/\u001b[39m\u001b[39m4\u001b[39m,\n\u001b[1;32m    110\u001b[0m             kernel_size\u001b[39m=\u001b[39m\u001b[39m3\u001b[39m,\n\u001b[1;32m    111\u001b[0m             padding\u001b[39m=\u001b[39m\u001b[39m\"\u001b[39m\u001b[39msame\u001b[39m\u001b[39m\"\u001b[39m\n\u001b[1;32m    112\u001b[0m         ),\n\u001b[1;32m    113\u001b[0m         nn\u001b[39m.\u001b[39mReLU(),\n\u001b[1;32m    114\u001b[0m         nn\u001b[39m.\u001b[39mBatchNorm2d(in_channels\u001b[39m=\u001b[39min_channels\u001b[39m/\u001b[39m\u001b[39m/\u001b[39m\u001b[39m4\u001b[39m),\n\u001b[1;32m    115\u001b[0m         nn\u001b[39m.\u001b[39mLinear(\n\u001b[1;32m    116\u001b[0m             in_features\u001b[39m=\u001b[39mfc_in,\n\u001b[1;32m    117\u001b[0m             out_features\u001b[39m=\u001b[39mvector_size\n\u001b[1;32m    118\u001b[0m         )\n\u001b[1;32m    119\u001b[0m     )\n",
      "\u001b[0;31mTypeError\u001b[0m: __init__() got an unexpected keyword argument 'in_channels'"
     ]
    }
   ],
   "source": [
    "path = \"../knee_data/\"\n",
    "volume_transform = T.Compose([SquarePad(), Standardize()])\n",
    "label_transform = SquarePad()\n",
    "\n",
    "train_data, val_data = get_slice_loaders(path, volume_transform=volume_transform, label_transform=label_transform)\n",
    "\n",
    "train_loader = DataLoader(train_data, batch_size=8, num_workers=4)\n",
    "val_loader = DataLoader(val_data, batch_size=8, num_workers=4)\n",
    "\n",
    "## Train\n",
    "label_keys = [\"Lateral femoral cart.\",\n",
    "                \"Lateral meniscus\",\n",
    "                \"Lateral tibial cart.\",\n",
    "                \"Medial femoral cartilage\",\n",
    "                \"Medial meniscus\",\n",
    "                \"Medial tibial cart.\",\n",
    "                \"Patellar cart.\",\n",
    "                \"Tibia\"]\n",
    "net = UNet(1, 9, 384, class_names=label_keys)\n",
    "\n",
    "criterion = nn.CrossEntropyLoss()\n",
    "optimizer = optim.Adam(net.parameters(), lr=5e-5)"
   ]
  },
  {
   "cell_type": "code",
   "execution_count": null,
   "metadata": {},
   "outputs": [],
   "source": [
    "training_loop(\n",
    "    net,\n",
    "    criterion,\n",
    "    optimizer,\n",
    "    train_loader,\n",
    "    val_loader,\n",
    "    num_epochs=100,\n",
    "    cont=True\n",
    ")"
   ]
  }
 ],
 "metadata": {
  "kernelspec": {
   "display_name": "Python 3 (ipykernel)",
   "language": "python",
   "name": "python3"
  },
  "language_info": {
   "codemirror_mode": {
    "name": "ipython",
    "version": 3
   },
   "file_extension": ".py",
   "mimetype": "text/x-python",
   "name": "python",
   "nbconvert_exporter": "python",
   "pygments_lexer": "ipython3",
   "version": "3.9.13"
  },
  "orig_nbformat": 4,
  "vscode": {
   "interpreter": {
    "hash": "b1103d541099b0dd44b9ab66b416a9bfac2b68374e82fd05aa2957090a8270d5"
   }
  }
 },
 "nbformat": 4,
 "nbformat_minor": 2
}
