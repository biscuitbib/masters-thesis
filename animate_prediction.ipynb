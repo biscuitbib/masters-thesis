{
 "cells": [
  {
   "cell_type": "code",
   "execution_count": null,
   "id": "0f64e1b7-7bf1-4be5-aa14-9e35b3672d60",
   "metadata": {
    "tags": []
   },
   "outputs": [],
   "source": [
    "!pip install nibabel elasticdeform"
   ]
  },
  {
   "cell_type": "code",
   "execution_count": 40,
   "id": "64c6b079-0261-4494-8edf-3378984231c7",
   "metadata": {
    "tags": []
   },
   "outputs": [],
   "source": [
    "import os\n",
    "import torch\n",
    "import torch.nn.functional as F\n",
    "import nibabel as nib\n",
    "import numpy as np\n",
    "import matplotlib\n",
    "import matplotlib.pyplot as plt\n",
    "import matplotlib.animation as animation\n",
    "from tqdm.notebook import trange\n",
    "\n",
    "from thesisproject.utils import create_animation, create_overlay_figure\n",
    "from thesisproject.predict import Predict \n",
    "from thesisproject.models import UNet\n",
    "\n",
    "plt.rcParams['figure.figsize'] = [20, 10]"
   ]
  },
  {
   "cell_type": "code",
   "execution_count": 2,
   "id": "54de13df-2f1c-4431-b0f5-9bd75c54502e",
   "metadata": {},
   "outputs": [],
   "source": [
    "net = UNet(1, 9)\n",
    "device = torch.device('cuda:0' if torch.cuda.is_available() else 'cpu')\n",
    "net.to(device)\n",
    "\n",
    "checkpoint_path = os.path.join(\"model_saves\", \"model_checkpoint.pt\")\n",
    "checkpoint = torch.load(checkpoint_path)\n",
    "net.load_state_dict(checkpoint['model_state_dict'])\n",
    "\n",
    "predict = Predict(net, batch_size=8, show_progress=True)"
   ]
  },
  {
   "cell_type": "code",
   "execution_count": 3,
   "id": "2119e45e-adbe-438b-8aa3-c25fbca04b45",
   "metadata": {
    "tags": []
   },
   "outputs": [],
   "source": [
    "scan = nib.load(\"/notebooks/knee_data/train/images/9003406_20041118_SAG_3D_DESS_LEFT_016610296205.nii.gz\").get_fdata()\n",
    "scan_tensor = torch.from_numpy(scan).float().to(device)\n",
    "scan_tensor -= torch.min(scan_tensor)\n",
    "scan_tensor /= torch.max(scan_tensor)\n",
    "\n",
    "label = nib.load(\"/notebooks/knee_data/train/labels/9003406_20041118_SAG_3D_DESS_LEFT_016610296205.nii.gz\").get_fdata()\n",
    "label_tensor = torch.from_numpy(label).long()"
   ]
  },
  {
   "cell_type": "code",
   "execution_count": 4,
   "id": "5290fde0-d7d3-4ce8-9add-891f7481a9de",
   "metadata": {},
   "outputs": [
    {
     "name": "stderr",
     "output_type": "stream",
     "text": [
      "Third view: 100%|██████████| 928/928 [00:31<00:00, 29.61slice/s] \n"
     ]
    }
   ],
   "source": [
    "prediction = predict(scan_tensor)"
   ]
  },
  {
   "cell_type": "code",
   "execution_count": 34,
   "id": "0f4ad026-3a37-4fe4-892b-24eec2db2d61",
   "metadata": {},
   "outputs": [
    {
     "name": "stdout",
     "output_type": "stream",
     "text": [
      "tensor([ 57, 300,  57])\n"
     ]
    }
   ],
   "source": [
    "print(np.nonzero(prediction)[2])"
   ]
  },
  {
   "cell_type": "code",
   "execution_count": null,
   "id": "43d07d30-2bff-4455-9f45-cb8a2f595c9e",
   "metadata": {},
   "outputs": [],
   "source": [
    "frames = []\n",
    "h, w, d = scan_tensor.shape\n",
    "\n",
    "for i in trange(d):\n",
    "    scan_slice = scan_tensor[:, :, i].unsqueeze(0).unsqueeze(0)\n",
    "    label_slice = label_tensor[:, :, i].unsqueeze(0).unsqueeze(0)\n",
    "    pred_slice = prediction[:, :, i].unsqueeze(0).unsqueeze(0)\n",
    "    \n",
    "    tmp_fig, tmp_axs = create_overlay_figure(scan_slice, label_slice, pred_slice, images_per_batch=1)\n",
    "    tmp_fig.show()\n",
    "\n",
    "    if i==0:\n",
    "        fig, ax = plt.gcf(), plt.gca()\n",
    "    else:\n",
    "        dummy_fig, ax = plt.gcf(), plt.gca()\n",
    "        print(ax)\n",
    "        ax.set(animated=True)\n",
    "        ax.remove()\n",
    "        ax.figure = fig\n",
    "        fig.add_axes(ax)\n",
    "        plt.close(dummy_fig)\n",
    "        \n",
    "    fig.tight_layout()\n",
    "        \n",
    "    frames.append([ax])\n",
    "\n",
    "ani = animation.ArtistAnimation(fig, frames, interval=50, blit=True, repeat_delay=1000)"
   ]
  },
  {
   "cell_type": "code",
   "execution_count": 17,
   "id": "5f45b254-b56e-4777-8415-a1fd98786e10",
   "metadata": {},
   "outputs": [],
   "source": [
    "ani.save(\"pred.mp4\")"
   ]
  },
  {
   "cell_type": "code",
   "execution_count": 42,
   "id": "5ff5b791-8deb-401a-a6b3-d402af8daade",
   "metadata": {},
   "outputs": [
    {
     "ename": "TypeError",
     "evalue": "one_hot() got an unexpected keyword argument 'dims'",
     "output_type": "error",
     "traceback": [
      "\u001b[0;31m---------------------------------------------------------------------------\u001b[0m",
      "\u001b[0;31mTypeError\u001b[0m                                 Traceback (most recent call last)",
      "Input \u001b[0;32mIn [42]\u001b[0m, in \u001b[0;36m<cell line: 4>\u001b[0;34m()\u001b[0m\n\u001b[1;32m      2\u001b[0m scan_slice \u001b[38;5;241m=\u001b[39m scan_tensor[:, i, :]\u001b[38;5;241m.\u001b[39munsqueeze(\u001b[38;5;241m0\u001b[39m)\u001b[38;5;241m.\u001b[39munsqueeze(\u001b[38;5;241m0\u001b[39m)\n\u001b[1;32m      3\u001b[0m label_slice \u001b[38;5;241m=\u001b[39m label_tensor[:, i, :]\u001b[38;5;241m.\u001b[39munsqueeze(\u001b[38;5;241m0\u001b[39m)\u001b[38;5;241m.\u001b[39munsqueeze(\u001b[38;5;241m0\u001b[39m)\n\u001b[0;32m----> 4\u001b[0m pred_slice \u001b[38;5;241m=\u001b[39m \u001b[43mF\u001b[49m\u001b[38;5;241;43m.\u001b[39;49m\u001b[43mone_hot\u001b[49m\u001b[43m(\u001b[49m\u001b[43mprediction\u001b[49m\u001b[43m[\u001b[49m\u001b[43m:\u001b[49m\u001b[43m,\u001b[49m\u001b[43m \u001b[49m\u001b[43mi\u001b[49m\u001b[43m,\u001b[49m\u001b[43m \u001b[49m\u001b[43m:\u001b[49m\u001b[43m]\u001b[49m\u001b[38;5;241;43m.\u001b[39;49m\u001b[43munsqueeze\u001b[49m\u001b[43m(\u001b[49m\u001b[38;5;241;43m0\u001b[39;49m\u001b[43m)\u001b[49m\u001b[38;5;241;43m.\u001b[39;49m\u001b[43munsqueeze\u001b[49m\u001b[43m(\u001b[49m\u001b[38;5;241;43m0\u001b[39;49m\u001b[43m)\u001b[49m\u001b[43m,\u001b[49m\u001b[43m \u001b[49m\u001b[43mdims\u001b[49m\u001b[38;5;241;43m=\u001b[39;49m\u001b[38;5;241;43m1\u001b[39;49m\u001b[43m)\u001b[49m\n\u001b[1;32m      7\u001b[0m tmp_fig, tmp_axs \u001b[38;5;241m=\u001b[39m create_overlay_figure(scan_slice, label_slice, pred_slice, images_per_batch\u001b[38;5;241m=\u001b[39m\u001b[38;5;241m1\u001b[39m)\n\u001b[1;32m      8\u001b[0m tmp_fig\u001b[38;5;241m.\u001b[39mshow()\n",
      "\u001b[0;31mTypeError\u001b[0m: one_hot() got an unexpected keyword argument 'dims'"
     ]
    }
   ],
   "source": [
    "i = 300\n",
    "scan_slice = scan_tensor[:, i, :].unsqueeze(0).unsqueeze(0)\n",
    "label_slice = label_tensor[:, i, :].unsqueeze(0).unsqueeze(0)\n",
    "pred_slice = F.one_hot(prediction[:, i, :].unsqueeze(0).unsqueeze(0), dims=1)\n",
    "\n",
    "\n",
    "tmp_fig, tmp_axs = create_overlay_figure(scan_slice, label_slice, pred_slice, images_per_batch=1)\n",
    "tmp_fig.show()"
   ]
  },
  {
   "cell_type": "code",
   "execution_count": null,
   "id": "5acc9eb7-6087-4eec-9b53-5b5504d22ecf",
   "metadata": {},
   "outputs": [],
   "source": []
  }
 ],
 "metadata": {
  "kernelspec": {
   "display_name": "Python 3 (ipykernel)",
   "language": "python",
   "name": "python3"
  },
  "language_info": {
   "codemirror_mode": {
    "name": "ipython",
    "version": 3
   },
   "file_extension": ".py",
   "mimetype": "text/x-python",
   "name": "python",
   "nbconvert_exporter": "python",
   "pygments_lexer": "ipython3",
   "version": "3.9.13"
  }
 },
 "nbformat": 4,
 "nbformat_minor": 5
}
