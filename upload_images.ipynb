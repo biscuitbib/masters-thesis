{
 "cells": [
  {
   "cell_type": "code",
   "execution_count": 1,
   "id": "96d7e837",
   "metadata": {},
   "outputs": [
    {
     "name": "stdout",
     "output_type": "stream",
     "text": [
      "/Users/niklas/Documents/DIKU/Master's Thesis\n"
     ]
    }
   ],
   "source": [
    "%cd .."
   ]
  },
  {
   "cell_type": "code",
   "execution_count": 2,
   "id": "50032d7d",
   "metadata": {},
   "outputs": [],
   "source": [
    "import numpy as np\n",
    "import boto3\n",
    "from tqdm.notebook import tqdm"
   ]
  },
  {
   "cell_type": "code",
   "execution_count": 3,
   "id": "2cfa77d6",
   "metadata": {},
   "outputs": [],
   "source": [
    "s3 = boto3.resource('s3')\n",
    "bucket = \"osteoarthritis-initiative\"\n",
    "oai_bucket = s3.Bucket(bucket)"
   ]
  },
  {
   "cell_type": "code",
   "execution_count": 4,
   "id": "82ac77ff",
   "metadata": {},
   "outputs": [],
   "source": [
    "path = \"/Volumes/Expansion/NIFTY/\"\n",
    "subject_files = list(np.loadtxt(\"subject_images.txt\", dtype=\"str\"))"
   ]
  },
  {
   "cell_type": "code",
   "execution_count": 5,
   "id": "e1f61a88",
   "metadata": {},
   "outputs": [],
   "source": [
    "uploaded_files = []\n",
    "for bucket_object in oai_bucket.objects.all():\n",
    "    uploaded_files.append(bucket_object.key)"
   ]
  },
  {
   "cell_type": "code",
   "execution_count": 6,
   "id": "bf553681",
   "metadata": {},
   "outputs": [
    {
     "name": "stdout",
     "output_type": "stream",
     "text": [
      "753 already uploaded to bucket osteoarthritis-initiative. Uploading 1172 remaining files.\n"
     ]
    }
   ],
   "source": [
    "files_to_upload = list(set(subject_files) - set(uploaded_files))\n",
    "print(f\"{len(uploaded_files)} already uploaded to bucket {bucket}. Uploading {len(files_to_upload)} remaining files.\")"
   ]
  },
  {
   "cell_type": "code",
   "execution_count": 7,
   "id": "b63341d8",
   "metadata": {},
   "outputs": [
    {
     "data": {
      "application/vnd.jupyter.widget-view+json": {
       "model_id": "7618d15275fe45458ff1fd1358a7b3f6",
       "version_major": 2,
       "version_minor": 0
      },
      "text/plain": [
       "  0%|          | 0/1925 [00:00<?, ?files/s]"
      ]
     },
     "metadata": {},
     "output_type": "display_data"
    }
   ],
   "source": [
    "pbar = tqdm(total=len(subject_files), unit=\"files\")\n",
    "pbar.update(len(subject_files) - len(files_to_upload))\n",
    "\n",
    "for file in files_to_upload:\n",
    "    pbar.set_description(f\"Uploading {file}\")\n",
    "    oai_bucket.upload_file(path + file, file)\n",
    "    pbar.update(1)"
   ]
  },
  {
   "cell_type": "code",
   "execution_count": null,
   "id": "5cb0a4e8",
   "metadata": {},
   "outputs": [],
   "source": []
  }
 ],
 "metadata": {
  "kernelspec": {
   "display_name": "Python 3 (ipykernel)",
   "language": "python",
   "name": "python3"
  },
  "language_info": {
   "codemirror_mode": {
    "name": "ipython",
    "version": 3
   },
   "file_extension": ".py",
   "mimetype": "text/x-python",
   "name": "python",
   "nbconvert_exporter": "python",
   "pygments_lexer": "ipython3",
   "version": "3.9.13"
  }
 },
 "nbformat": 4,
 "nbformat_minor": 5
}
