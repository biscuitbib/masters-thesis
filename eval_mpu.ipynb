{
 "cells": [
  {
   "cell_type": "code",
   "execution_count": null,
   "metadata": {},
   "outputs": [],
   "source": [
    "%cd masters-thesis"
   ]
  },
  {
   "cell_type": "code",
   "execution_count": null,
   "metadata": {},
   "outputs": [],
   "source": [
    "import os\n",
    "import numpy as np\n",
    "import torch\n",
    "from torch import Tensor, nn, optim\n",
    "import torch.nn.functional as F\n",
    "import torchvision.transforms as T\n",
    "from torchvision.transforms.functional import pad\n",
    "from torch.utils.data import DataLoader\n",
    "from multiprocessing import cpu_count\n",
    "\n",
    "from thesisproject.models import UNet\n",
    "from thesisproject.data import ImagePairDataset\n",
    "from thesisproject.test import Test"
   ]
  },
  {
   "cell_type": "code",
   "execution_count": null,
   "metadata": {},
   "outputs": [],
   "source": [
    "class SquarePad:\n",
    "    def __call__(self, image: Tensor):\n",
    "        imsize = image.shape\n",
    "        max_edge = np.argmax(imsize)\n",
    "        pad_amounts = [imsize[max_edge] - imsize[0], imsize[max_edge] - imsize[1], imsize[max_edge] - imsize[2]]\n",
    "\n",
    "        padding = [int(np.floor(pad_amounts[0] / 2)),\n",
    "                   int(np.ceil(pad_amounts[0] / 2)),\n",
    "                   int(np.floor(pad_amounts[1] / 2)),\n",
    "                   int(np.ceil(pad_amounts[1] / 2)),\n",
    "                   int(np.floor(pad_amounts[2] / 2)),\n",
    "                   int(np.ceil(pad_amounts[2] / 2)),] #left, right, top, bottom, front, back\n",
    "        padding = tuple(padding[::-1])\n",
    "\n",
    "        padded_im = F.pad(image, padding, \"constant\", 0)\n",
    "        return padded_im\n",
    "\n",
    "def test_collate(image):\n",
    "    return image"
   ]
  },
  {
   "cell_type": "code",
   "execution_count": null,
   "metadata": {},
   "outputs": [],
   "source": [
    "path = \"../knee_data/\"\n",
    "\n",
    "volume_transform = SquarePad()\n",
    "\n",
    "test_data = ImagePairDataset(path + \"test\", predict_mode=False, image_transform=volume_transform, label_transform=volume_transform)\n",
    "\n",
    "test_loader = DataLoader(test_data, batch_size=1, num_workers=4, collate_fn=test_collate)\n",
    "\n",
    "label_keys = [\n",
    "    \"Lateral femoral cart.\",\n",
    "    \"Lateral meniscus\",\n",
    "    \"Lateral tibial cart.\",\n",
    "    \"Medial femoral cartilage\",\n",
    "    \"Medial meniscus\",\n",
    "    \"Medial tibial cart.\",\n",
    "    \"Patellar cart.\",\n",
    "    \"Tibia\"]\n",
    "net = UNet(1, 9, 384, class_names=label_keys)"
   ]
  },
  {
   "cell_type": "code",
   "execution_count": null,
   "metadata": {},
   "outputs": [],
   "source": [
    "with torch.no_grad():\n",
    "    device = torch.device('cuda:0' if torch.cuda.is_available() else 'cpu')\n",
    "    net.to(device)\n",
    "\n",
    "    checkpoint_path = os.path.join(\"model_saves\", \"model_checkpoint.pt\")\n",
    "    checkpoint = torch.load(checkpoint_path)\n",
    "    net.load_state_dict(checkpoint['model_state_dict'])\n",
    "\n",
    "    test = Test(net, test_loader, save_preds=True)\n",
    "    test()"
   ]
  },
  {
   "cell_type": "code",
   "execution_count": null,
   "metadata": {},
   "outputs": [],
   "source": []
  }
 ],
 "metadata": {
  "kernelspec": {
   "display_name": "Python 3 (ipykernel)",
   "language": "python",
   "name": "python3"
  },
  "language_info": {
   "codemirror_mode": {
    "name": "ipython",
    "version": 3
   },
   "file_extension": ".py",
   "mimetype": "text/x-python",
   "name": "python",
   "nbconvert_exporter": "python",
   "pygments_lexer": "ipython3",
   "version": "3.9.13"
  }
 },
 "nbformat": 4,
 "nbformat_minor": 4
}
