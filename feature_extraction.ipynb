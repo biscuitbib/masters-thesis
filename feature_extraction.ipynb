{
 "cells": [
  {
   "cell_type": "code",
   "execution_count": 103,
   "id": "20e20cae-77e7-45a5-bc7a-4510fa72a49b",
   "metadata": {},
   "outputs": [],
   "source": [
    "import os\n",
    "import nibabel as nib\n",
    "import numpy as np\n",
    "import matplotlib\n",
    "import matplotlib.pyplot as plt\n",
    "from sklearn.decomposition import PCA\n",
    "from scipy import ndimage\n",
    "\n",
    "plt.rcParams['figure.figsize'] = [20, 10]"
   ]
  },
  {
   "cell_type": "code",
   "execution_count": 40,
   "id": "f64120b8-62a6-42b5-b676-af389234741b",
   "metadata": {},
   "outputs": [],
   "source": [
    "path = \"ScanManTrain61_knee_data/train/\"\n",
    "label_keys = [\"FemoralCartilage\",\n",
    "              \"LateralFemoralCartilage\",\n",
    "              \"LateralMeniscus\",\n",
    "              \"LateralTibialCartilage\",\n",
    "              \"MedialFemoralCartilage\",\n",
    "              \"MedialMeniscus\",\n",
    "              \"MedialTibialCartilage\",\n",
    "              \"PatellarCartilage\",\n",
    "              \"Tibia\"]"
   ]
  },
  {
   "cell_type": "code",
   "execution_count": 41,
   "id": "986a98ed-7c8d-4d83-a32c-50f4f36f5e41",
   "metadata": {},
   "outputs": [],
   "source": [
    "img = nib.load(path + \"images/img_0.nii.gz\").get_fdata()\n",
    "label = nib.load(path + \"labels/img_0.nii.gz\").get_fdata()"
   ]
  },
  {
   "cell_type": "code",
   "execution_count": 148,
   "id": "310359fe-bcfb-4861-ae42-c5c1a029d000",
   "metadata": {},
   "outputs": [
    {
     "data": {
      "text/plain": [
       "<matplotlib.image.AxesImage at 0x7f28783e1400>"
      ]
     },
     "execution_count": 148,
     "metadata": {},
     "output_type": "execute_result"
    },
    {
     "data": {
      "image/png": "[encoded data removed]",
      "text/plain": [
       "<Figure size 1440x720 with 1 Axes>"
      ]
     },
     "metadata": {
      "needs_background": "light"
     },
     "output_type": "display_data"
    }
   ],
   "source": [
    "plt.imshow(label[:, 140, : ]) "
   ]
  },
  {
   "cell_type": "code",
   "execution_count": 46,
   "id": "2ef504e4-a834-4a59-9141-f621bffdfd82",
   "metadata": {},
   "outputs": [],
   "source": [
    "def get_class_mask(mask, c):\n",
    "    return (mask == c).astype(int)"
   ]
  },
  {
   "cell_type": "code",
   "execution_count": 75,
   "id": "721e8391-f642-465a-a823-fde2c345280a",
   "metadata": {},
   "outputs": [
    {
     "data": {
      "text/plain": [
       "0"
      ]
     },
     "execution_count": 75,
     "metadata": {},
     "output_type": "execute_result"
    }
   ],
   "source": [
    "np.sum(get_class_mask(label, 1))"
   ]
  },
  {
   "cell_type": "code",
   "execution_count": 160,
   "id": "8a319cab-0ea4-4041-a9c4-f564eb6a4cad",
   "metadata": {},
   "outputs": [],
   "source": [
    "def bbox(img):\n",
    "    # Flatten image along first axis to get bounding box for the two remaining axes\n",
    "    flat_img = np.max(img, axis=0)\n",
    "    \n",
    "    ws = np.any(flat_img, axis=1)\n",
    "    ds = np.any(flat_img, axis=0)\n",
    "    wmin, wmax = np.where(ws)[0][[0, -1]]\n",
    "    dmin, dmax = np.where(ds)[0][[0, -1]]\n",
    "\n",
    "    return wmin, wmax, dmin, dmax\n",
    "\n",
    "def center_of_mass(img):\n",
    "    h, w, d = img.shape\n",
    "    total = img.sum()\n",
    "    h_coord = (img.sum(axis=1).sum(axis=1) @ np.arange(h)) / total\n",
    "    w_coord = (img.sum(axis=2).sum(axis=0) @ np.arange(w)) / total\n",
    "    d_coord = (img.sum(axis=1).sum(axis=0) @ np.arange(d)) / total\n",
    "    return np.array([h_coord, w_coord, d_coord])\n",
    "\n",
    "def BelowCenter(mask, show = False):\n",
    "    [xs, ys, zs] = np.nonzero(mask) # # coordinates are head->toe, front->back, left-right\n",
    "    X = np.concatenate((xs.reshape(-1,1), ys.reshape(-1,1)),axis=1)\n",
    "    pca = PCA(n_components=1)\n",
    "    pca.fit(X)\n",
    "    mainDir = pca.components_[0]\n",
    "    mainDir /= np.linalg.norm(mainDir)\n",
    "    upDir = np.array([mainDir[1], -mainDir[0]])\n",
    "    meanX = np.mean(xs) # Axial, head->toe\n",
    "    meanY = np.mean(ys) # Coronal, front->back\n",
    "    sz = mask.shape\n",
    "    for x in range(sz[0]):\n",
    "        for y in range(sz[1]):\n",
    "            d = np.array([x - meanX, y - meanY])\n",
    "            up = np.dot(d,upDir)\n",
    "            if up>0:\n",
    "                mask[x,y,:] = 0\n",
    "    return mainDir, upDir, meanX, meanY  # dont need to return, mask is changed inplace\n",
    "\n",
    "def extract_compartments(mask):\n",
    "    label_keys = [\"FemoralCartilage\",\n",
    "                  \"LateralFemoralCartilage\",\n",
    "                  \"LateralMeniscus\",\n",
    "                  \"LateralTibialCartilage\",\n",
    "                  \"MedialFemoralCartilage\",\n",
    "                  \"MedialMeniscus\",\n",
    "                  \"MedialTibialCartilage\",\n",
    "                  \"PatellarCartilage\",\n",
    "                  \"Tibia\"]\n",
    "    # Compartments\n",
    "    lateral_tibial = get_class_mask(mask, 4)\n",
    "    medial_tibial = get_class_mask(mask, 7)\n",
    "    femoral = get_class_mask(mask, 2) + get_class_mask(mask, 5)\n",
    "    lateral_meniscus = get_class_mask(mask, 3)\n",
    "    medial_meniscus = get_class_mask(mask, 6)\n",
    "    \n",
    "    # Crop femoral cartilage to tibial cartilage bounding box\n",
    "    lt_wmin, lt_wmax, lt_dmin, lt_dmax = bbox(lateral_tibial)\n",
    "    mt_wmin, mt_wmax, mt_dmin, mt_dmax = bbox(medial_tibial)\n",
    "    \n",
    "    femoral_crop = np.zeros_like(femoral)\n",
    "    femoral_lt_bbox = femoral[:, lt_wmin:lt_wmax + 1, lt_dmin:lt_dmax + 1]\n",
    "    femoral_mt_bbox = femoral[:, mt_wmin:mt_wmax + 1, mt_dmin:mt_dmax + 1]\n",
    "    femoral_crop[:, lt_wmin:lt_wmax + 1, lt_dmin:lt_dmax + 1] = femoral[:, lt_wmin:lt_wmax + 1, lt_dmin:lt_dmax + 1]\n",
    "    femoral_crop[:, mt_wmin:mt_wmax + 1, mt_dmin:mt_dmax + 1] = femoral[:, mt_wmin:mt_wmax + 1, mt_dmin:mt_dmax + 1]\n",
    "    \n",
    "    # PCA cut\n",
    "    # TODO replace with own version of BelowCenter instead of Lærke's\n",
    "    BelowCenter(femoral_crop)\n",
    "    "
   ]
  },
  {
   "cell_type": "code",
   "execution_count": 161,
   "id": "aa2af118-21cd-435f-ac76-7d78ef7147a0",
   "metadata": {},
   "outputs": [
    {
     "data": {
      "image/png": "[encoded data removed]",
      "text/plain": [
       "<Figure size 1440x720 with 1 Axes>"
      ]
     },
     "metadata": {
      "needs_background": "light"
     },
     "output_type": "display_data"
    }
   ],
   "source": [
    "extract_compartments(label)"
   ]
  },
  {
   "cell_type": "code",
   "execution_count": null,
   "id": "35a72030-1efc-44b5-8094-d332ef51944f",
   "metadata": {},
   "outputs": [],
   "source": []
  }
 ],
 "metadata": {
  "kernelspec": {
   "display_name": "Python 3 (ipykernel)",
   "language": "python",
   "name": "python3"
  },
  "language_info": {
   "codemirror_mode": {
    "name": "ipython",
    "version": 3
   },
   "file_extension": ".py",
   "mimetype": "text/x-python",
   "name": "python",
   "nbconvert_exporter": "python",
   "pygments_lexer": "ipython3",
   "version": "3.9.13"
  }
 },
 "nbformat": 4,
 "nbformat_minor": 5
}
